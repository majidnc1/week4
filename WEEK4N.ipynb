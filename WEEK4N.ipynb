{
 "cells": [
  {
   "cell_type": "markdown",
   "id": "6052ba06-61dc-4e2d-acbf-79c344413a1a",
   "metadata": {},
   "source": [
    "# My Jupyter Notebook on IBM Watson studio"
   ]
  },
  {
   "cell_type": "markdown",
   "id": "cd32e5a7-8ae7-40c0-b194-99005d9603dd",
   "metadata": {},
   "source": [
    "**MAjid**\n",
    "\n",
    "Research Scientist"
   ]
  },
  {
   "cell_type": "markdown",
   "id": "74080a12-04b2-4815-bab1-6ba9f7ee9660",
   "metadata": {},
   "source": [
    "_I am interested in data science because I want to use my analytical and problem-solving skills to extract insights from complex data and make informed decisions._"
   ]
  },
  {
   "cell_type": "markdown",
   "id": "d85b888d-65bd-4642-ad60-9ad9c6ad8332",
   "metadata": {},
   "source": [
    "### This code adds two numbers and displays the output\n"
   ]
  },
  {
   "cell_type": "code",
   "execution_count": 1,
   "id": "a58b532d-3fd5-40f2-bcd9-dcdbc6652cbe",
   "metadata": {},
   "outputs": [
    {
     "name": "stdout",
     "output_type": "stream",
     "text": [
      "The Sum of 1 and 4 is 5\n"
     ]
    }
   ],
   "source": [
    "n1=1\n",
    "n2=4\n",
    "sum=n1+n2\n",
    "print(\"The Sum of\", n1, \"and\", n2, \"is\", sum)"
   ]
  },
  {
   "cell_type": "markdown",
   "id": "e02ab2b1-5488-4f8a-a030-a8387cf0ccfb",
   "metadata": {},
   "source": [
    "---\n",
    "\n",
    "Here's a numbered list:\n",
    " 1. First Item\n",
    " 2. Second Item\n",
    " 3. Third Item\n",
    " \n",
    " A table:\n",
    " \n",
    " | Name  | Age | Gender |\n",
    " |-------|-----|--------|\n",
    " |Fafa   | 30. | Female |\n",
    " |Jane.  | 32  | Female |\n",
    " |Robert | 45  | Male.  |\n",
    " \n",
    " A hyperlink to [IBM Watson Studio](https://www.ibm.com/cloud/watson-studio)\n",
    " \n",
    " Here's an image of a cute cat:\n",
    " ![Cute Cat](https://d1hjkbq40fs2x4.cloudfront.net/2016-07-16/files/cat-sample_1313-4.jpg)\n",
    " \n",
    " A blocked quote:\n",
    "> \"The greatest glory in living lies not in never falling, but in rising every time we fall.\" -Nelson Mandela\n",
    " \n",
    " Some Python code with syntax highlighting:\n",
    " \n",
    " ``python\n",
    " \n",
    "def fibonacci(n):\n",
    "\n",
    "    if n <= 1:\n",
    "    \n",
    "        return n\n",
    "        \n",
    "    else:\n",
    "    \n",
    "        return fibonacci(n-1) + fibonacci(n-2)\n",
    "        \n",
    "\n",
    "for i in range(10):\n",
    "\n",
    "    print(fibonacci(i))\n",
    "    \n",
    " "
   ]
  },
  {
   "cell_type": "code",
   "execution_count": null,
   "id": "02a22a89-1be8-432c-ae4d-8b600d27833e",
   "metadata": {},
   "outputs": [],
   "source": []
  }
 ],
 "metadata": {
  "kernelspec": {
   "display_name": "Python 3 (ipykernel)",
   "language": "python",
   "name": "python3"
  },
  "language_info": {
   "codemirror_mode": {
    "name": "ipython",
    "version": 3
   },
   "file_extension": ".py",
   "mimetype": "text/x-python",
   "name": "python",
   "nbconvert_exporter": "python",
   "pygments_lexer": "ipython3",
   "version": "3.9.13"
  }
 },
 "nbformat": 4,
 "nbformat_minor": 5
}
